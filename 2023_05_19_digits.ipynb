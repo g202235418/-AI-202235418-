{
 "cells": [
  {
   "cell_type": "code",
   "execution_count": 22,
   "id": "265dc9c3",
   "metadata": {},
   "outputs": [
    {
     "data": {
      "text/plain": [
       "<matplotlib.image.AxesImage at 0x23f817f1520>"
      ]
     },
     "execution_count": 22,
     "metadata": {},
     "output_type": "execute_result"
    },
    {
     "data": {
      "image/png": "[encoded data removed]",
      "text/plain": [
       "<Figure size 640x480 with 1 Axes>"
      ]
     },
     "metadata": {},
     "output_type": "display_data"
    }
   ],
   "source": [
    "import matplotlib.pyplot as plt\n",
    "from sklearn import datasets, metrics\n",
    "from sklearn.model_selection import train_test_split\n",
    "from tensorflow.keras.models import Sequential\n",
    "from tensorflow.keras.layers import Conv2D, MaxPooling2D, Flatten, Dense\n",
    "from tensorflow.keras.utils import to_categorical\n",
    "\n",
    "digits = datasets.load_digits()\n",
    "plt.imshow(digits.images[0], cmap=plt.cm.gray_r, interpolation='nearest')"
   ]
  },
  {
   "cell_type": "code",
   "execution_count": 23,
   "id": "e0bd204f",
   "metadata": {},
   "outputs": [
    {
     "data": {
      "image/png": "[encoded data removed]",
      "text/plain": [
       "<Figure size 640x480 with 1 Axes>"
      ]
     },
     "metadata": {},
     "output_type": "display_data"
    }
   ],
   "source": [
    "plt.imshow(digits.images[0], cmap=plt.cm.gray_r, interpolation='nearest')\n",
    "plt.show()"
   ]
  },
  {
   "cell_type": "code",
   "execution_count": 24,
   "id": "76543626",
   "metadata": {},
   "outputs": [],
   "source": [
    "X = digits.images\n",
    "y = digits.target\n",
    "X = X.reshape(X.shape[0], 8, 8, 1)  # 이미지 형태 변환 (채널 추가)\n",
    "y = to_categorical(y)"
   ]
  },
  {
   "cell_type": "code",
   "execution_count": 25,
   "id": "e9ddb95d",
   "metadata": {},
   "outputs": [],
   "source": [
    "X_train, X_test, y_train, y_test = train_test_split(X, y, test_size=0.2, random_state=42)"
   ]
  },
  {
   "cell_type": "code",
   "execution_count": 26,
   "id": "ead0d591",
   "metadata": {},
   "outputs": [],
   "source": [
    "model = Sequential()\n",
    "model.add(Conv2D(32, kernel_size=(3, 3), activation='relu', input_shape=(8, 8, 1)))\n",
    "model.add(MaxPooling2D(pool_size=(2, 2)))\n",
    "model.add(Flatten())\n",
    "model.add(Dense(64, activation='relu'))\n",
    "model.add(Dense(10, activation='softmax'))"
   ]
  },
  {
   "cell_type": "code",
   "execution_count": 27,
   "id": "4325d42f",
   "metadata": {},
   "outputs": [],
   "source": [
    "model.compile(loss='categorical_crossentropy', optimizer='adam', metrics=['accuracy'])"
   ]
  },
  {
   "cell_type": "code",
   "execution_count": 28,
   "id": "ac3c6843",
   "metadata": {},
   "outputs": [
    {
     "name": "stdout",
     "output_type": "stream",
     "text": [
      "Epoch 1/10\n",
      "45/45 [==============================] - 3s 20ms/step - loss: 1.5747 - accuracy: 0.5226 - val_loss: 0.6055 - val_accuracy: 0.8472\n",
      "Epoch 2/10\n",
      "45/45 [==============================] - 0s 8ms/step - loss: 0.4138 - accuracy: 0.8942 - val_loss: 0.2737 - val_accuracy: 0.9389\n",
      "Epoch 3/10\n",
      "45/45 [==============================] - 0s 9ms/step - loss: 0.2195 - accuracy: 0.9471 - val_loss: 0.2024 - val_accuracy: 0.9472\n",
      "Epoch 4/10\n",
      "45/45 [==============================] - 0s 8ms/step - loss: 0.1514 - accuracy: 0.9631 - val_loss: 0.1356 - val_accuracy: 0.9639\n",
      "Epoch 5/10\n",
      "45/45 [==============================] - 0s 9ms/step - loss: 0.1088 - accuracy: 0.9749 - val_loss: 0.1244 - val_accuracy: 0.9639\n",
      "Epoch 6/10\n",
      "45/45 [==============================] - 0s 8ms/step - loss: 0.0865 - accuracy: 0.9777 - val_loss: 0.0998 - val_accuracy: 0.9639\n",
      "Epoch 7/10\n",
      "45/45 [==============================] - 0s 8ms/step - loss: 0.0611 - accuracy: 0.9903 - val_loss: 0.0815 - val_accuracy: 0.9778\n",
      "Epoch 8/10\n",
      "45/45 [==============================] - 0s 8ms/step - loss: 0.0490 - accuracy: 0.9923 - val_loss: 0.0841 - val_accuracy: 0.9750\n",
      "Epoch 9/10\n",
      "45/45 [==============================] - 0s 8ms/step - loss: 0.0422 - accuracy: 0.9923 - val_loss: 0.0745 - val_accuracy: 0.9694\n",
      "Epoch 10/10\n",
      "45/45 [==============================] - 0s 8ms/step - loss: 0.0369 - accuracy: 0.9930 - val_loss: 0.0821 - val_accuracy: 0.9722\n"
     ]
    },
    {
     "data": {
      "text/plain": [
       "<keras.callbacks.History at 0x23f81909e20>"
      ]
     },
     "execution_count": 28,
     "metadata": {},
     "output_type": "execute_result"
    }
   ],
   "source": [
    "model.fit(X_train, y_train, epochs=10, batch_size=32, validation_data=(X_test, y_test))"
   ]
  },
  {
   "cell_type": "code",
   "execution_count": 29,
   "id": "87910e06",
   "metadata": {},
   "outputs": [
    {
     "name": "stdout",
     "output_type": "stream",
     "text": [
      "12/12 [==============================] - 0s 5ms/step - loss: 0.0821 - accuracy: 0.9722\n",
      "테스트 세트 정확도: 0.9722222089767456\n"
     ]
    }
   ],
   "source": [
    "test_loss, test_acc = model.evaluate(X_test, y_test)\n",
    "print('테스트 세트 정확도:', test_acc)"
   ]
  }
 ],
 "metadata": {
  "kernelspec": {
   "display_name": "Python 3 (ipykernel)",
   "language": "python",
   "name": "python3"
  },
  "language_info": {
   "codemirror_mode": {
    "name": "ipython",
    "version": 3
   },
   "file_extension": ".py",
   "mimetype": "text/x-python",
   "name": "python",
   "nbconvert_exporter": "python",
   "pygments_lexer": "ipython3",
   "version": "3.9.13"
  }
 },
 "nbformat": 4,
 "nbformat_minor": 5
}
