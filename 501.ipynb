{
 "cells": [
  {
   "cell_type": "code",
   "execution_count": 1,
   "id": "ac0c09e0",
   "metadata": {},
   "outputs": [],
   "source": [
    "import numpy as np\n",
    "import pandas as pd\n",
    "from sklearn.datasets import load_diabetes\n",
    "from sklearn.model_selection import train_test_split\n",
    "from sklearn.metrics import r2_score,mean_squared_error\n",
    "from sklearn.preprocessing import StandardScaler,MinMaxScaler\n",
    "from sklearn.utils import all_estimators\n",
    "import warnings\n",
    "warnings.filterwarnings('ignore')"
   ]
  },
  {
   "cell_type": "code",
   "execution_count": 2,
   "id": "f7b319fd",
   "metadata": {},
   "outputs": [],
   "source": [
    "data = pd.read_csv(\"C:/Users/진현킴/Downloads/501.csv\")"
   ]
  },
  {
   "cell_type": "code",
   "execution_count": 3,
   "id": "f8f969d6",
   "metadata": {},
   "outputs": [
    {
     "data": {
      "text/html": [
       "<div>\n",
       "<style scoped>\n",
       "    .dataframe tbody tr th:only-of-type {\n",
       "        vertical-align: middle;\n",
       "    }\n",
       "\n",
       "    .dataframe tbody tr th {\n",
       "        vertical-align: top;\n",
       "    }\n",
       "\n",
       "    .dataframe thead th {\n",
       "        text-align: right;\n",
       "    }\n",
       "</style>\n",
       "<table border=\"1\" class=\"dataframe\">\n",
       "  <thead>\n",
       "    <tr style=\"text-align: right;\">\n",
       "      <th></th>\n",
       "      <th>timestamp</th>\n",
       "      <th>back_x</th>\n",
       "      <th>back_y</th>\n",
       "      <th>back_z</th>\n",
       "      <th>thigh_x</th>\n",
       "      <th>thigh_y</th>\n",
       "      <th>thigh_z</th>\n",
       "      <th>label</th>\n",
       "    </tr>\n",
       "  </thead>\n",
       "  <tbody>\n",
       "    <tr>\n",
       "      <th>0</th>\n",
       "      <td>42:03.8</td>\n",
       "      <td>-0.999023</td>\n",
       "      <td>-0.063477</td>\n",
       "      <td>0.140625</td>\n",
       "      <td>-0.980469</td>\n",
       "      <td>-0.112061</td>\n",
       "      <td>-0.048096</td>\n",
       "      <td>6</td>\n",
       "    </tr>\n",
       "    <tr>\n",
       "      <th>1</th>\n",
       "      <td>42:03.9</td>\n",
       "      <td>-0.980225</td>\n",
       "      <td>-0.079346</td>\n",
       "      <td>0.140625</td>\n",
       "      <td>-0.961182</td>\n",
       "      <td>-0.121582</td>\n",
       "      <td>-0.051758</td>\n",
       "      <td>6</td>\n",
       "    </tr>\n",
       "    <tr>\n",
       "      <th>2</th>\n",
       "      <td>42:03.9</td>\n",
       "      <td>-0.950195</td>\n",
       "      <td>-0.076416</td>\n",
       "      <td>0.140625</td>\n",
       "      <td>-0.949463</td>\n",
       "      <td>-0.080566</td>\n",
       "      <td>-0.067139</td>\n",
       "      <td>6</td>\n",
       "    </tr>\n",
       "    <tr>\n",
       "      <th>3</th>\n",
       "      <td>42:03.9</td>\n",
       "      <td>-0.954834</td>\n",
       "      <td>-0.059082</td>\n",
       "      <td>0.140381</td>\n",
       "      <td>-0.957520</td>\n",
       "      <td>-0.046143</td>\n",
       "      <td>-0.050781</td>\n",
       "      <td>6</td>\n",
       "    </tr>\n",
       "    <tr>\n",
       "      <th>4</th>\n",
       "      <td>42:03.9</td>\n",
       "      <td>-0.972412</td>\n",
       "      <td>-0.042969</td>\n",
       "      <td>0.142822</td>\n",
       "      <td>-0.977051</td>\n",
       "      <td>-0.023682</td>\n",
       "      <td>-0.026611</td>\n",
       "      <td>6</td>\n",
       "    </tr>\n",
       "    <tr>\n",
       "      <th>...</th>\n",
       "      <td>...</td>\n",
       "      <td>...</td>\n",
       "      <td>...</td>\n",
       "      <td>...</td>\n",
       "      <td>...</td>\n",
       "      <td>...</td>\n",
       "      <td>...</td>\n",
       "      <td>...</td>\n",
       "    </tr>\n",
       "    <tr>\n",
       "      <th>103855</th>\n",
       "      <td>17:06.0</td>\n",
       "      <td>-0.760010</td>\n",
       "      <td>-0.068848</td>\n",
       "      <td>-0.203125</td>\n",
       "      <td>-0.796875</td>\n",
       "      <td>-0.007812</td>\n",
       "      <td>-0.036865</td>\n",
       "      <td>6</td>\n",
       "    </tr>\n",
       "    <tr>\n",
       "      <th>103856</th>\n",
       "      <td>17:06.0</td>\n",
       "      <td>-0.736328</td>\n",
       "      <td>-0.068115</td>\n",
       "      <td>-0.203125</td>\n",
       "      <td>-0.769287</td>\n",
       "      <td>0.037354</td>\n",
       "      <td>-0.056641</td>\n",
       "      <td>6</td>\n",
       "    </tr>\n",
       "    <tr>\n",
       "      <th>103857</th>\n",
       "      <td>17:06.0</td>\n",
       "      <td>-0.736328</td>\n",
       "      <td>-0.079834</td>\n",
       "      <td>-0.203125</td>\n",
       "      <td>-0.763672</td>\n",
       "      <td>0.052490</td>\n",
       "      <td>-0.027588</td>\n",
       "      <td>6</td>\n",
       "    </tr>\n",
       "    <tr>\n",
       "      <th>103858</th>\n",
       "      <td>17:06.0</td>\n",
       "      <td>-0.762207</td>\n",
       "      <td>-0.078125</td>\n",
       "      <td>-0.205078</td>\n",
       "      <td>-0.763428</td>\n",
       "      <td>0.042236</td>\n",
       "      <td>0.022705</td>\n",
       "      <td>6</td>\n",
       "    </tr>\n",
       "    <tr>\n",
       "      <th>103859</th>\n",
       "      <td>17:06.1</td>\n",
       "      <td>-0.799805</td>\n",
       "      <td>-0.078125</td>\n",
       "      <td>-0.196533</td>\n",
       "      <td>-0.770264</td>\n",
       "      <td>0.013428</td>\n",
       "      <td>0.081543</td>\n",
       "      <td>6</td>\n",
       "    </tr>\n",
       "  </tbody>\n",
       "</table>\n",
       "<p>103860 rows × 8 columns</p>\n",
       "</div>"
      ],
      "text/plain": [
       "       timestamp    back_x    back_y    back_z   thigh_x   thigh_y   thigh_z  \\\n",
       "0        42:03.8 -0.999023 -0.063477  0.140625 -0.980469 -0.112061 -0.048096   \n",
       "1        42:03.9 -0.980225 -0.079346  0.140625 -0.961182 -0.121582 -0.051758   \n",
       "2        42:03.9 -0.950195 -0.076416  0.140625 -0.949463 -0.080566 -0.067139   \n",
       "3        42:03.9 -0.954834 -0.059082  0.140381 -0.957520 -0.046143 -0.050781   \n",
       "4        42:03.9 -0.972412 -0.042969  0.142822 -0.977051 -0.023682 -0.026611   \n",
       "...          ...       ...       ...       ...       ...       ...       ...   \n",
       "103855   17:06.0 -0.760010 -0.068848 -0.203125 -0.796875 -0.007812 -0.036865   \n",
       "103856   17:06.0 -0.736328 -0.068115 -0.203125 -0.769287  0.037354 -0.056641   \n",
       "103857   17:06.0 -0.736328 -0.079834 -0.203125 -0.763672  0.052490 -0.027588   \n",
       "103858   17:06.0 -0.762207 -0.078125 -0.205078 -0.763428  0.042236  0.022705   \n",
       "103859   17:06.1 -0.799805 -0.078125 -0.196533 -0.770264  0.013428  0.081543   \n",
       "\n",
       "        label  \n",
       "0           6  \n",
       "1           6  \n",
       "2           6  \n",
       "3           6  \n",
       "4           6  \n",
       "...       ...  \n",
       "103855      6  \n",
       "103856      6  \n",
       "103857      6  \n",
       "103858      6  \n",
       "103859      6  \n",
       "\n",
       "[103860 rows x 8 columns]"
      ]
     },
     "execution_count": 3,
     "metadata": {},
     "output_type": "execute_result"
    }
   ],
   "source": [
    "data"
   ]
  },
  {
   "cell_type": "code",
   "execution_count": 4,
   "id": "d13da263",
   "metadata": {},
   "outputs": [
    {
     "data": {
      "text/html": [
       "<div>\n",
       "<style scoped>\n",
       "    .dataframe tbody tr th:only-of-type {\n",
       "        vertical-align: middle;\n",
       "    }\n",
       "\n",
       "    .dataframe tbody tr th {\n",
       "        vertical-align: top;\n",
       "    }\n",
       "\n",
       "    .dataframe thead th {\n",
       "        text-align: right;\n",
       "    }\n",
       "</style>\n",
       "<table border=\"1\" class=\"dataframe\">\n",
       "  <thead>\n",
       "    <tr style=\"text-align: right;\">\n",
       "      <th></th>\n",
       "      <th>timestamp</th>\n",
       "      <th>back_x</th>\n",
       "      <th>back_y</th>\n",
       "      <th>back_z</th>\n",
       "      <th>thigh_x</th>\n",
       "      <th>thigh_y</th>\n",
       "      <th>thigh_z</th>\n",
       "      <th>label</th>\n",
       "    </tr>\n",
       "  </thead>\n",
       "  <tbody>\n",
       "    <tr>\n",
       "      <th>0</th>\n",
       "      <td>42:03.8</td>\n",
       "      <td>-0.999023</td>\n",
       "      <td>-0.063477</td>\n",
       "      <td>0.140625</td>\n",
       "      <td>-0.980469</td>\n",
       "      <td>-0.112061</td>\n",
       "      <td>-0.048096</td>\n",
       "      <td>6</td>\n",
       "    </tr>\n",
       "    <tr>\n",
       "      <th>1</th>\n",
       "      <td>42:03.9</td>\n",
       "      <td>-0.980225</td>\n",
       "      <td>-0.079346</td>\n",
       "      <td>0.140625</td>\n",
       "      <td>-0.961182</td>\n",
       "      <td>-0.121582</td>\n",
       "      <td>-0.051758</td>\n",
       "      <td>6</td>\n",
       "    </tr>\n",
       "    <tr>\n",
       "      <th>2</th>\n",
       "      <td>42:03.9</td>\n",
       "      <td>-0.950195</td>\n",
       "      <td>-0.076416</td>\n",
       "      <td>0.140625</td>\n",
       "      <td>-0.949463</td>\n",
       "      <td>-0.080566</td>\n",
       "      <td>-0.067139</td>\n",
       "      <td>6</td>\n",
       "    </tr>\n",
       "    <tr>\n",
       "      <th>3</th>\n",
       "      <td>42:03.9</td>\n",
       "      <td>-0.954834</td>\n",
       "      <td>-0.059082</td>\n",
       "      <td>0.140381</td>\n",
       "      <td>-0.957520</td>\n",
       "      <td>-0.046143</td>\n",
       "      <td>-0.050781</td>\n",
       "      <td>6</td>\n",
       "    </tr>\n",
       "    <tr>\n",
       "      <th>4</th>\n",
       "      <td>42:03.9</td>\n",
       "      <td>-0.972412</td>\n",
       "      <td>-0.042969</td>\n",
       "      <td>0.142822</td>\n",
       "      <td>-0.977051</td>\n",
       "      <td>-0.023682</td>\n",
       "      <td>-0.026611</td>\n",
       "      <td>6</td>\n",
       "    </tr>\n",
       "    <tr>\n",
       "      <th>...</th>\n",
       "      <td>...</td>\n",
       "      <td>...</td>\n",
       "      <td>...</td>\n",
       "      <td>...</td>\n",
       "      <td>...</td>\n",
       "      <td>...</td>\n",
       "      <td>...</td>\n",
       "      <td>...</td>\n",
       "    </tr>\n",
       "    <tr>\n",
       "      <th>103855</th>\n",
       "      <td>17:06.0</td>\n",
       "      <td>-0.760010</td>\n",
       "      <td>-0.068848</td>\n",
       "      <td>-0.203125</td>\n",
       "      <td>-0.796875</td>\n",
       "      <td>-0.007812</td>\n",
       "      <td>-0.036865</td>\n",
       "      <td>6</td>\n",
       "    </tr>\n",
       "    <tr>\n",
       "      <th>103856</th>\n",
       "      <td>17:06.0</td>\n",
       "      <td>-0.736328</td>\n",
       "      <td>-0.068115</td>\n",
       "      <td>-0.203125</td>\n",
       "      <td>-0.769287</td>\n",
       "      <td>0.037354</td>\n",
       "      <td>-0.056641</td>\n",
       "      <td>6</td>\n",
       "    </tr>\n",
       "    <tr>\n",
       "      <th>103857</th>\n",
       "      <td>17:06.0</td>\n",
       "      <td>-0.736328</td>\n",
       "      <td>-0.079834</td>\n",
       "      <td>-0.203125</td>\n",
       "      <td>-0.763672</td>\n",
       "      <td>0.052490</td>\n",
       "      <td>-0.027588</td>\n",
       "      <td>6</td>\n",
       "    </tr>\n",
       "    <tr>\n",
       "      <th>103858</th>\n",
       "      <td>17:06.0</td>\n",
       "      <td>-0.762207</td>\n",
       "      <td>-0.078125</td>\n",
       "      <td>-0.205078</td>\n",
       "      <td>-0.763428</td>\n",
       "      <td>0.042236</td>\n",
       "      <td>0.022705</td>\n",
       "      <td>6</td>\n",
       "    </tr>\n",
       "    <tr>\n",
       "      <th>103859</th>\n",
       "      <td>17:06.1</td>\n",
       "      <td>-0.799805</td>\n",
       "      <td>-0.078125</td>\n",
       "      <td>-0.196533</td>\n",
       "      <td>-0.770264</td>\n",
       "      <td>0.013428</td>\n",
       "      <td>0.081543</td>\n",
       "      <td>6</td>\n",
       "    </tr>\n",
       "  </tbody>\n",
       "</table>\n",
       "<p>103860 rows × 8 columns</p>\n",
       "</div>"
      ],
      "text/plain": [
       "       timestamp    back_x    back_y    back_z   thigh_x   thigh_y   thigh_z  \\\n",
       "0        42:03.8 -0.999023 -0.063477  0.140625 -0.980469 -0.112061 -0.048096   \n",
       "1        42:03.9 -0.980225 -0.079346  0.140625 -0.961182 -0.121582 -0.051758   \n",
       "2        42:03.9 -0.950195 -0.076416  0.140625 -0.949463 -0.080566 -0.067139   \n",
       "3        42:03.9 -0.954834 -0.059082  0.140381 -0.957520 -0.046143 -0.050781   \n",
       "4        42:03.9 -0.972412 -0.042969  0.142822 -0.977051 -0.023682 -0.026611   \n",
       "...          ...       ...       ...       ...       ...       ...       ...   \n",
       "103855   17:06.0 -0.760010 -0.068848 -0.203125 -0.796875 -0.007812 -0.036865   \n",
       "103856   17:06.0 -0.736328 -0.068115 -0.203125 -0.769287  0.037354 -0.056641   \n",
       "103857   17:06.0 -0.736328 -0.079834 -0.203125 -0.763672  0.052490 -0.027588   \n",
       "103858   17:06.0 -0.762207 -0.078125 -0.205078 -0.763428  0.042236  0.022705   \n",
       "103859   17:06.1 -0.799805 -0.078125 -0.196533 -0.770264  0.013428  0.081543   \n",
       "\n",
       "        label  \n",
       "0           6  \n",
       "1           6  \n",
       "2           6  \n",
       "3           6  \n",
       "4           6  \n",
       "...       ...  \n",
       "103855      6  \n",
       "103856      6  \n",
       "103857      6  \n",
       "103858      6  \n",
       "103859      6  \n",
       "\n",
       "[103860 rows x 8 columns]"
      ]
     },
     "execution_count": 4,
     "metadata": {},
     "output_type": "execute_result"
    }
   ],
   "source": [
    "data.dropna()"
   ]
  },
  {
   "cell_type": "code",
   "execution_count": 5,
   "id": "a7f011bd",
   "metadata": {},
   "outputs": [
    {
     "data": {
      "text/plain": [
       "timestamp    0\n",
       "back_x       0\n",
       "back_y       0\n",
       "back_z       0\n",
       "thigh_x      0\n",
       "thigh_y      0\n",
       "thigh_z      0\n",
       "label        0\n",
       "dtype: int64"
      ]
     },
     "execution_count": 5,
     "metadata": {},
     "output_type": "execute_result"
    }
   ],
   "source": [
    "data.isnull().sum()"
   ]
  },
  {
   "cell_type": "code",
   "execution_count": 6,
   "id": "8dc36b78",
   "metadata": {},
   "outputs": [],
   "source": [
    "from sklearn.preprocessing import LabelEncoder\n",
    "le = LabelEncoder()\n",
    "\n",
    "for i in data.columns :\n",
    "    data[i] = le.fit_transform(data[i])"
   ]
  },
  {
   "cell_type": "code",
   "execution_count": 7,
   "id": "31992e98",
   "metadata": {},
   "outputs": [
    {
     "data": {
      "text/plain": [
       "Text(0.5, 1.0, 'label')"
      ]
     },
     "execution_count": 7,
     "metadata": {},
     "output_type": "execute_result"
    },
    {
     "data": {
      "image/png": "[encoded data removed]",
      "text/plain": [
       "<Figure size 640x480 with 1 Axes>"
      ]
     },
     "metadata": {},
     "output_type": "display_data"
    }
   ],
   "source": [
    "import seaborn as sns\n",
    "import matplotlib.pyplot as plt\n",
    "sns.countplot(data = data, x=\"label\")\n",
    "plt.xlabel(\"Kind of label\")\n",
    "plt.ylabel(\"Count\")\n",
    "plt.title(\"label\")"
   ]
  },
  {
   "cell_type": "code",
   "execution_count": 8,
   "id": "cb4b7af1",
   "metadata": {},
   "outputs": [
    {
     "data": {
      "text/plain": [
       "0    4\n",
       "1    4\n",
       "2    4\n",
       "3    4\n",
       "4    4\n",
       "Name: label, dtype: int64"
      ]
     },
     "execution_count": 8,
     "metadata": {},
     "output_type": "execute_result"
    }
   ],
   "source": [
    "y = data['label']\n",
    "\n",
    "y.head()"
   ]
  },
  {
   "cell_type": "code",
   "execution_count": 9,
   "id": "f44343e7",
   "metadata": {},
   "outputs": [
    {
     "data": {
      "text/plain": [
       "array([[10235,  3358,  2077, ...,  5911,  3102,  5982],\n",
       "       [10236,  3435,  2012, ...,  5990,  3063,  5967],\n",
       "       [10236,  3558,  2024, ...,  6038,  3231,  5904],\n",
       "       ...,\n",
       "       [10233,  4434,  2010, ...,  6799,  3776,  6066],\n",
       "       [10233,  4328,  2017, ...,  6800,  3734,  6272],\n",
       "       [10234,  4174,  2017, ...,  6772,  3616,  6513]], dtype=int64)"
      ]
     },
     "execution_count": 9,
     "metadata": {},
     "output_type": "execute_result"
    }
   ],
   "source": [
    "X = data.iloc[:,0:7].values\n",
    "X"
   ]
  },
  {
   "cell_type": "code",
   "execution_count": 10,
   "id": "fa26d8f6",
   "metadata": {},
   "outputs": [],
   "source": [
    "from sklearn.preprocessing import LabelEncoder\n",
    "## from keras.utils import to_categorical\n",
    "\n",
    "encoder = LabelEncoder()\n",
    "y_encoded = encoder.fit_transform(y)\n",
    "## y_one_hot = to_categorical(y_encoded, num_classes=2)\n",
    "Y = pd.get_dummies(y_encoded).values\n",
    "\n",
    "from sklearn.model_selection import train_test_split\n",
    "\n",
    "X_train, X_test, y_train, y_test = train_test_split(X, Y, test_size=0.2, random_state=0)"
   ]
  },
  {
   "cell_type": "code",
   "execution_count": 11,
   "id": "be4dc6cb",
   "metadata": {},
   "outputs": [
    {
     "name": "stdout",
     "output_type": "stream",
     "text": [
      "(83088, 7)\n",
      "(20772, 7)\n"
     ]
    }
   ],
   "source": [
    "print(y_train.shape)\n",
    "print(y_test.shape)"
   ]
  },
  {
   "cell_type": "code",
   "execution_count": 12,
   "id": "7fd325cd",
   "metadata": {},
   "outputs": [
    {
     "name": "stdout",
     "output_type": "stream",
     "text": [
      "Model: \"sequential\"\n",
      "_________________________________________________________________\n",
      " Layer (type)                Output Shape              Param #   \n",
      "=================================================================\n",
      " dense (Dense)               (None, 30)                240       \n",
      "                                                                 \n",
      " dense_1 (Dense)             (None, 15)                465       \n",
      "                                                                 \n",
      " dense_2 (Dense)             (None, 10)                160       \n",
      "                                                                 \n",
      " dense_3 (Dense)             (None, 7)                 77        \n",
      "                                                                 \n",
      "=================================================================\n",
      "Total params: 942\n",
      "Trainable params: 942\n",
      "Non-trainable params: 0\n",
      "_________________________________________________________________\n"
     ]
    }
   ],
   "source": [
    "from keras.models import Sequential\n",
    "from keras.layers import Dense\n",
    "from keras.optimizers import SGD, Adam\n",
    "\n",
    "\n",
    "model = Sequential()\n",
    "\n",
    "model.add(Dense(30,input_shape=(7,),activation='relu'))\n",
    "model.add(Dense(15,activation='relu'))\n",
    "model.add(Dense(10,activation='relu'))\n",
    "model.add(Dense(7,activation='softmax'))\n",
    "\n",
    "model.compile(Adam(lr=0.001),'categorical_crossentropy',metrics=['accuracy'])\n",
    "\n",
    "model.summary()"
   ]
  },
  {
   "cell_type": "code",
   "execution_count": 13,
   "id": "65024e4c",
   "metadata": {},
   "outputs": [
    {
     "name": "stdout",
     "output_type": "stream",
     "text": [
      "Epoch 1/10\n",
      "2597/2597 [==============================] - 13s 4ms/step - loss: 31.9627 - accuracy: 0.8543 - val_loss: 2.0362 - val_accuracy: 0.8965\n",
      "Epoch 2/10\n",
      "2597/2597 [==============================] - 11s 4ms/step - loss: 2.0500 - accuracy: 0.8920 - val_loss: 1.3933 - val_accuracy: 0.9249\n",
      "Epoch 3/10\n",
      "2597/2597 [==============================] - 11s 4ms/step - loss: 0.8818 - accuracy: 0.8976 - val_loss: 0.8919 - val_accuracy: 0.8192\n",
      "Epoch 4/10\n",
      "2597/2597 [==============================] - 11s 4ms/step - loss: 0.4092 - accuracy: 0.9074 - val_loss: 0.5033 - val_accuracy: 0.9098\n",
      "Epoch 5/10\n",
      "2597/2597 [==============================] - 11s 4ms/step - loss: 0.3184 - accuracy: 0.9169 - val_loss: 0.2393 - val_accuracy: 0.9420\n",
      "Epoch 6/10\n",
      "2597/2597 [==============================] - 11s 4ms/step - loss: 0.2792 - accuracy: 0.9210 - val_loss: 0.2525 - val_accuracy: 0.9311\n",
      "Epoch 7/10\n",
      "2597/2597 [==============================] - 11s 4ms/step - loss: 0.2789 - accuracy: 0.9245 - val_loss: 0.2987 - val_accuracy: 0.8798\n",
      "Epoch 8/10\n",
      "2597/2597 [==============================] - 11s 4ms/step - loss: 0.2590 - accuracy: 0.9344 - val_loss: 0.3035 - val_accuracy: 0.9190\n",
      "Epoch 9/10\n",
      "2597/2597 [==============================] - 11s 4ms/step - loss: 0.2592 - accuracy: 0.9363 - val_loss: 0.2283 - val_accuracy: 0.9442\n",
      "Epoch 10/10\n",
      "2597/2597 [==============================] - 11s 4ms/step - loss: 0.2496 - accuracy: 0.9386 - val_loss: 0.2288 - val_accuracy: 0.9432\n",
      "650/650 [==============================] - 2s 2ms/step\n"
     ]
    }
   ],
   "source": [
    "model_history=model.fit(x = X_train, y = y_train, epochs=10, batch_size=32, validation_data = (X_test,y_test))\n",
    "y_pred = model.predict(X_test)\n",
    "\n",
    "y_test_class = np.argmax(y_test, axis=1)\n",
    "y_pred_class = np.argmax(y_pred, axis=1)"
   ]
  },
  {
   "cell_type": "code",
   "execution_count": 14,
   "id": "414fe0d1",
   "metadata": {},
   "outputs": [
    {
     "data": {
      "image/png": "[encoded data removed]",
      "text/plain": [
       "<Figure size 640x480 with 1 Axes>"
      ]
     },
     "metadata": {},
     "output_type": "display_data"
    }
   ],
   "source": [
    "import matplotlib.pyplot as plt\n",
    "import seaborn as sns\n",
    "\n",
    "loss = model_history.history['loss']\n",
    "val_loss = model_history.history['val_loss']\n",
    "epochs = range(1, len(loss) + 1)\n",
    "plt.plot(epochs, loss, 'y', label='Training loss')\n",
    "plt.plot(epochs, val_loss, 'r', label='Validation loss')\n",
    "plt.title('Training and validation loss')\n",
    "plt.xlabel('Epochs')\n",
    "plt.ylabel('Loss')\n",
    "plt.legend()\n",
    "plt.show()"
   ]
  },
  {
   "cell_type": "code",
   "execution_count": 15,
   "id": "9e2ff781",
   "metadata": {},
   "outputs": [
    {
     "data": {
      "image/png": "[encoded data removed]",
      "text/plain": [
       "<Figure size 640x480 with 1 Axes>"
      ]
     },
     "metadata": {},
     "output_type": "display_data"
    }
   ],
   "source": [
    "acc = model_history.history['accuracy']\n",
    "val_acc = model_history.history['val_accuracy']\n",
    "plt.plot(epochs, acc, 'y', label='Training acc')\n",
    "plt.plot(epochs, val_acc, 'r', label='Validation acc')\n",
    "plt.title('Training and validation accuracy')\n",
    "plt.xlabel('Epochs')\n",
    "plt.ylabel('Accuracy')\n",
    "plt.legend()\n",
    "plt.show()"
   ]
  },
  {
   "cell_type": "code",
   "execution_count": 16,
   "id": "419fa6d2",
   "metadata": {},
   "outputs": [
    {
     "name": "stdout",
     "output_type": "stream",
     "text": [
      "              precision    recall  f1-score   support\n",
      "\n",
      "           0       0.93      0.99      0.96     12513\n",
      "           1       0.00      0.00      0.00       410\n",
      "           2       0.00      0.00      0.00        20\n",
      "           3       0.00      0.00      0.00        95\n",
      "           4       0.93      0.84      0.88      2920\n",
      "           5       1.00      1.00      1.00      2930\n",
      "           6       1.00      1.00      1.00      1884\n",
      "\n",
      "    accuracy                           0.94     20772\n",
      "   macro avg       0.55      0.55      0.55     20772\n",
      "weighted avg       0.92      0.94      0.93     20772\n",
      "\n",
      "[[12345     0     0     0   154     7     7]\n",
      " [  388     0     0     0    22     0     0]\n",
      " [   20     0     0     0     0     0     0]\n",
      " [   94     0     0     0     1     0     0]\n",
      " [  479     0     0     0  2441     0     0]\n",
      " [    8     0     0     0     0  2922     0]\n",
      " [    0     0     0     0     0     0  1884]]\n"
     ]
    }
   ],
   "source": [
    "#Accuracy of the predicted values\n",
    "from sklearn.metrics import classification_report,confusion_matrix\n",
    "print(classification_report(y_test_class,y_pred_class))\n",
    "print(confusion_matrix(y_test_class,y_pred_class))"
   ]
  }
 ],
 "metadata": {
  "kernelspec": {
   "display_name": "Python 3 (ipykernel)",
   "language": "python",
   "name": "python3"
  },
  "language_info": {
   "codemirror_mode": {
    "name": "ipython",
    "version": 3
   },
   "file_extension": ".py",
   "mimetype": "text/x-python",
   "name": "python",
   "nbconvert_exporter": "python",
   "pygments_lexer": "ipython3",
   "version": "3.9.13"
  }
 },
 "nbformat": 4,
 "nbformat_minor": 5
}
