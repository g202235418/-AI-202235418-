{
 "cells": [
  {
   "cell_type": "code",
   "execution_count": 1,
   "metadata": {},
   "outputs": [],
   "source": [
    "#1. 다음 소스 코드를 완성하시오\n",
    "#2. Accuracy를 더 높여보세요\n",
    "#(Source)\n",
    "from sklearn.datasets import load_breast_cancer\n",
    "from sklearn.neighbors import KNeighborsClassifier\n",
    "import pandas as pd\n",
    "import matplotlib.pyplot as plt\n",
    "\n",
    "breast_cancer_data = load_breast_cancer()\n",
    "df_data = pd.DataFrame(breast_cancer_data.data) ##훈련용\n",
    "df_labels = pd.DataFrame(breast_cancer_data.target) ## 테스트용 \n"
   ]
  },
  {
   "cell_type": "code",
   "execution_count": 2,
   "metadata": {},
   "outputs": [
    {
     "name": "stdout",
     "output_type": "stream",
     "text": [
      "(569, 30)\n",
      "         0      1       2       3        4        5         6         7   \\\n",
      "286  11.940  20.76   77.87   441.0  0.08605  0.10110  0.065740  0.037910   \n",
      "15   14.540  27.54   96.73   658.8  0.11390  0.15950  0.163900  0.073640   \n",
      "120  11.410  10.82   73.34   403.3  0.09373  0.06685  0.035120  0.026230   \n",
      "205  15.120  16.68   98.78   716.6  0.08876  0.09588  0.075500  0.040790   \n",
      "47   13.170  18.66   85.98   534.6  0.11580  0.12310  0.122600  0.073400   \n",
      "318   9.042  18.90   60.07   244.5  0.09968  0.19720  0.197500  0.049080   \n",
      "388  11.270  15.50   73.38   392.0  0.08365  0.11140  0.100700  0.027570   \n",
      "343  19.680  21.68  129.90  1194.0  0.09797  0.13390  0.186300  0.110300   \n",
      "366  20.200  26.83  133.70  1234.0  0.09905  0.16690  0.164100  0.126500   \n",
      "522  11.260  19.83   71.30   388.1  0.08511  0.04413  0.005067  0.005664   \n",
      "\n",
      "         8        9   ...     20     21      22      23      24       25  \\\n",
      "286  0.1588  0.06766  ...  13.24  27.29   92.20   546.1  0.1116  0.28130   \n",
      "15   0.2303  0.07077  ...  17.46  37.13  124.10   943.2  0.1678  0.65770   \n",
      "120  0.1667  0.06113  ...  12.82  15.97   83.74   510.5  0.1548  0.23900   \n",
      "205  0.1594  0.05986  ...  17.77  20.24  117.70   989.5  0.1491  0.33310   \n",
      "47   0.2128  0.06777  ...  15.67  27.95  102.80   759.4  0.1786  0.41660   \n",
      "318  0.2330  0.08743  ...  10.06  23.40   68.62   297.1  0.1221  0.37480   \n",
      "388  0.1810  0.07252  ...  12.04  18.93   79.73   450.0  0.1102  0.28090   \n",
      "343  0.2082  0.05715  ...  22.75  34.66  157.60  1540.0  0.1218  0.34580   \n",
      "366  0.1875  0.06020  ...  24.19  33.81  160.00  1671.0  0.1278  0.34160   \n",
      "522  0.1637  0.06343  ...  11.93  26.43   76.38   435.9  0.1108  0.07723   \n",
      "\n",
      "          26       27      28       29  \n",
      "286  0.23650  0.11550  0.2465  0.09981  \n",
      "15   0.70260  0.17120  0.4218  0.13410  \n",
      "120  0.21020  0.08958  0.3016  0.08523  \n",
      "205  0.33270  0.12520  0.3415  0.09740  \n",
      "47   0.50060  0.20880  0.3900  0.11790  \n",
      "318  0.46090  0.11450  0.3135  0.10550  \n",
      "388  0.30210  0.08272  0.2157  0.10430  \n",
      "343  0.47340  0.22550  0.4045  0.07918  \n",
      "366  0.37030  0.21520  0.3271  0.07632  \n",
      "522  0.02533  0.02832  0.2557  0.07613  \n",
      "\n",
      "[10 rows x 30 columns]\n",
      "     0\n",
      "201  0\n",
      "321  0\n",
      "98   1\n",
      "195  1\n",
      "336  1\n",
      "332  1\n",
      "263  0\n",
      "5    0\n",
      "491  1\n",
      "428  1\n",
      "['malignant' 'benign']\n"
     ]
    }
   ],
   "source": [
    "#(숙제 : data와 labels 열개만 출력해서 실제 값을 확인하세요)\n",
    "\n",
    "print(df_data.shape)\n",
    "\n",
    "print(df_data.sample(10))\n",
    "print(df_labels.sample(10))\n",
    "print(breast_cancer_data.target_names)"
   ]
  },
  {
   "cell_type": "code",
   "execution_count": 3,
   "metadata": {},
   "outputs": [
    {
     "name": "stdout",
     "output_type": "stream",
     "text": [
      "X_train.shape : (455, 30)\n",
      "y_train.shape : (455, 1)\n",
      "X_test.shape: (114, 30)\n",
      "y_test.shape: (114, 1)\n"
     ]
    }
   ],
   "source": [
    "#(X_train, y_train, X_test, y_test 로 훈련과 테스트 데이터를 8:2로 나누기)\n",
    "\n",
    "X_train = df_data[:455]\n",
    "y_train = df_labels[:455][:]\n",
    "X_test = df_data[455:]\n",
    "y_test = df_labels[455:][:]\n",
    "\n",
    "print(\"X_train.shape :\", X_train.shape)\n",
    "print(\"y_train.shape :\", y_train.shape)\n",
    "print(\"X_test.shape:\", X_test.shape)\n",
    "print(\"y_test.shape:\", y_test.shape)"
   ]
  },
  {
   "cell_type": "code",
   "execution_count": 4,
   "metadata": {},
   "outputs": [
    {
     "name": "stderr",
     "output_type": "stream",
     "text": [
      "C:\\anaconda\\lib\\site-packages\\sklearn\\neighbors\\_classification.py:198: DataConversionWarning: A column-vector y was passed when a 1d array was expected. Please change the shape of y to (n_samples,), for example using ravel().\n",
      "  return self._fit(X, y)\n",
      "C:\\anaconda\\lib\\site-packages\\sklearn\\neighbors\\_classification.py:228: FutureWarning: Unlike other reduction functions (e.g. `skew`, `kurtosis`), the default behavior of `mode` typically preserves the axis it acts along. In SciPy 1.11.0, this behavior will change: the default value of `keepdims` will become False, the `axis` over which the statistic is taken will be eliminated, and the value None will no longer be accepted. Set `keepdims` to True or False to avoid this warning.\n",
      "  mode, _ = stats.mode(_y[neigh_ind, k], axis=1)\n",
      "C:\\anaconda\\lib\\site-packages\\sklearn\\neighbors\\_classification.py:228: FutureWarning: Unlike other reduction functions (e.g. `skew`, `kurtosis`), the default behavior of `mode` typically preserves the axis it acts along. In SciPy 1.11.0, this behavior will change: the default value of `keepdims` will become False, the `axis` over which the statistic is taken will be eliminated, and the value None will no longer be accepted. Set `keepdims` to True or False to avoid this warning.\n",
      "  mode, _ = stats.mode(_y[neigh_ind, k], axis=1)\n",
      "C:\\anaconda\\lib\\site-packages\\sklearn\\neighbors\\_classification.py:228: FutureWarning: Unlike other reduction functions (e.g. `skew`, `kurtosis`), the default behavior of `mode` typically preserves the axis it acts along. In SciPy 1.11.0, this behavior will change: the default value of `keepdims` will become False, the `axis` over which the statistic is taken will be eliminated, and the value None will no longer be accepted. Set `keepdims` to True or False to avoid this warning.\n",
      "  mode, _ = stats.mode(_y[neigh_ind, k], axis=1)\n"
     ]
    },
    {
     "data": {
      "text/plain": [
       "0.9385964912280702"
      ]
     },
     "execution_count": 4,
     "metadata": {},
     "output_type": "execute_result"
    }
   ],
   "source": [
    "#(KNN 알고리즘 모델 만들기, K값은 3을 사용)\n",
    "#(KNN 모델 훈련)\n",
    "\n",
    "mymodel = KNeighborsClassifier()\n",
    "k = 3 \n",
    "\n",
    "mymodel.fit(X_train, y_train)\n",
    "mymodel.score(X_test,y_test)\n",
    "\n",
    "# 예측\n",
    "prediction = mymodel.predict(X_test)\n",
    "mymodel.score(X_test, y_test)\n",
    "#결과 : 0.9385964912280702"
   ]
  },
  {
   "cell_type": "code",
   "execution_count": null,
   "metadata": {},
   "outputs": [],
   "source": []
  }
 ],
 "metadata": {
  "kernelspec": {
   "display_name": "Python 3 (ipykernel)",
   "language": "python",
   "name": "python3"
  },
  "language_info": {
   "codemirror_mode": {
    "name": "ipython",
    "version": 3
   },
   "file_extension": ".py",
   "mimetype": "text/x-python",
   "name": "python",
   "nbconvert_exporter": "python",
   "pygments_lexer": "ipython3",
   "version": "3.9.13"
  }
 },
 "nbformat": 4,
 "nbformat_minor": 2
}
