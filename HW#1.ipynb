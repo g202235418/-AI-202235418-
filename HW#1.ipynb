{
 "cells": [
  {
   "cell_type": "code",
   "execution_count": 247,
   "metadata": {},
   "outputs": [],
   "source": [
    "#1. 다음 소스 코드를 완성하시오\n",
    "\n",
    "#(Source)\n",
    "from sklearn.datasets import load_breast_cancer\n",
    "from sklearn.neighbors import KNeighborsClassifier\n",
    "import warnings \n",
    "warnings.filterwarnings('ignore')\n",
    "import pandas as pd\n",
    "import matplotlib.pyplot as plt\n",
    "from sklearn.model_selection import train_test_split\n",
    "\n",
    "breast_cancer_data = load_breast_cancer()\n",
    "df_data = pd.DataFrame(breast_cancer_data.data) ##훈련용\n",
    "df_labels = pd.DataFrame(breast_cancer_data.target) ## 테스트용 "
   ]
  },
  {
   "cell_type": "code",
   "execution_count": 248,
   "metadata": {},
   "outputs": [
    {
     "name": "stdout",
     "output_type": "stream",
     "text": [
      "(569, 30)\n",
      "        0      1       2       3        4        5        6        7       8   \\\n",
      "367  12.21  18.02   78.31   458.4  0.09231  0.07175  0.04392  0.02027  0.1695   \n",
      "72   17.20  24.52  114.20   929.4  0.10710  0.18300  0.16920  0.07944  0.1927   \n",
      "42   19.07  24.81  128.30  1104.0  0.09081  0.21900  0.21070  0.09961  0.2310   \n",
      "496  12.65  18.17   82.69   485.6  0.10760  0.13340  0.08017  0.05074  0.1641   \n",
      "537  11.69  24.44   76.37   406.4  0.12360  0.15520  0.04515  0.04531  0.2131   \n",
      "16   14.68  20.13   94.74   684.5  0.09867  0.07200  0.07395  0.05259  0.1586   \n",
      "93   13.45  18.30   86.60   555.1  0.10220  0.08165  0.03974  0.02780  0.1638   \n",
      "163  12.34  22.22   79.85   464.5  0.10120  0.10150  0.05370  0.02822  0.1551   \n",
      "527  12.34  12.27   78.94   468.5  0.09003  0.06307  0.02958  0.02647  0.1689   \n",
      "365  20.44  21.78  133.80  1293.0  0.09150  0.11310  0.09799  0.07785  0.1618   \n",
      "\n",
      "          9   ...     20     21      22      23      24      25      26  \\\n",
      "367  0.05916  ...  14.29  24.04   93.85   624.6  0.1368  0.2170  0.2413   \n",
      "72   0.06487  ...  23.32  33.82  151.60  1681.0  0.1585  0.7394  0.6566   \n",
      "42   0.06343  ...  24.09  33.17  177.40  1651.0  0.1247  0.7444  0.7242   \n",
      "496  0.06854  ...  14.38  22.15   95.29   633.7  0.1533  0.3842  0.3582   \n",
      "537  0.07405  ...  12.98  32.19   86.12   487.7  0.1768  0.3251  0.1395   \n",
      "16   0.05922  ...  19.07  30.88  123.40  1138.0  0.1464  0.1871  0.2914   \n",
      "93   0.05710  ...  15.10  25.94   97.59   699.4  0.1339  0.1751  0.1381   \n",
      "163  0.06761  ...  13.58  28.68   87.36   553.0  0.1452  0.2338  0.1688   \n",
      "527  0.05808  ...  13.61  19.27   87.22   564.9  0.1292  0.2074  0.1791   \n",
      "365  0.05557  ...  24.31  26.37  161.20  1780.0  0.1327  0.2376  0.2702   \n",
      "\n",
      "          27      28       29  \n",
      "367  0.08829  0.3218  0.07470  \n",
      "72   0.18990  0.3313  0.13390  \n",
      "42   0.24930  0.4670  0.10380  \n",
      "496  0.14070  0.3230  0.10330  \n",
      "537  0.13080  0.2803  0.09970  \n",
      "16   0.16090  0.3029  0.08216  \n",
      "93   0.07911  0.2678  0.06603  \n",
      "163  0.08194  0.2268  0.09082  \n",
      "527  0.10700  0.3110  0.07592  \n",
      "365  0.17650  0.2609  0.06735  \n",
      "\n",
      "[10 rows x 30 columns]\n",
      "     0\n",
      "413  1\n",
      "420  1\n",
      "170  1\n",
      "277  0\n",
      "5    0\n",
      "532  1\n",
      "295  1\n",
      "348  1\n",
      "74   1\n",
      "416  1\n",
      "['malignant' 'benign']\n"
     ]
    }
   ],
   "source": [
    "#(숙제 : data와 labels 열개만 출력해서 실제 값을 확인하세요)\n",
    "\n",
    "print(df_data.shape)\n",
    "\n",
    "print(df_data.sample(10))\n",
    "print(df_labels.sample(10))\n",
    "print(breast_cancer_data.target_names)"
   ]
  },
  {
   "cell_type": "code",
   "execution_count": 249,
   "metadata": {},
   "outputs": [
    {
     "name": "stdout",
     "output_type": "stream",
     "text": [
      "X_train.shape : (455, 30)\n",
      "y_train.shape : (455, 1)\n",
      "X_test.shape: (114, 30)\n",
      "y_test.shape: (114, 1)\n"
     ]
    }
   ],
   "source": [
    "#(X_train, y_train, X_test, y_test 로 훈련과 테스트 데이터를 8:2로 나누기)\n",
    "\n",
    "X_train, X_test, y_train, y_test = train_test_split(df_data, df_labels, test_size=0.2, shuffle= False, random_state=1111)\n",
    "\n",
    "print(\"X_train.shape :\", X_train.shape)\n",
    "print(\"y_train.shape :\", y_train.shape)\n",
    "print(\"X_test.shape:\", X_test.shape)\n",
    "print(\"y_test.shape:\", y_test.shape)"
   ]
  },
  {
   "cell_type": "code",
   "execution_count": 250,
   "metadata": {},
   "outputs": [
    {
     "data": {
      "text/plain": [
       "0.9385964912280702"
      ]
     },
     "execution_count": 250,
     "metadata": {},
     "output_type": "execute_result"
    }
   ],
   "source": [
    "#(KNN 알고리즘 모델 만들기, K값은 3을 사용)\n",
    "#(KNN 모델 훈련)\n",
    "K = 3\n",
    "mymodel = KNeighborsClassifier()\n",
    "\n",
    "mymodel.fit(X_train, y_train)\n",
    "mymodel.score(X_test,y_test)\n",
    "\n",
    "# 예측\n",
    "prediction = mymodel.predict(X_test)\n",
    "mymodel.score(X_test, y_test)\n",
    "#결과 : 0.9385964912280702"
   ]
  },
  {
   "cell_type": "code",
   "execution_count": 251,
   "metadata": {},
   "outputs": [
    {
     "name": "stdout",
     "output_type": "stream",
     "text": [
      "KNeighborsClassifier(n_neighbors=3) 0.9298245614035088\n",
      "KNeighborsClassifier(n_neighbors=4) 0.9035087719298246\n",
      "KNeighborsClassifier() 0.9385964912280702\n",
      "KNeighborsClassifier(n_neighbors=6) 0.9122807017543859\n",
      "KNeighborsClassifier(n_neighbors=7) 0.9298245614035088\n",
      "KNeighborsClassifier(n_neighbors=8) 0.9122807017543859\n",
      "KNeighborsClassifier(n_neighbors=9) 0.9298245614035088\n",
      "KNeighborsClassifier(n_neighbors=10) 0.9298245614035088\n",
      "KNeighborsClassifier(n_neighbors=11) 0.9473684210526315\n",
      "KNeighborsClassifier(n_neighbors=12) 0.9385964912280702\n",
      "KNeighborsClassifier(n_neighbors=13) 0.9473684210526315\n",
      "KNeighborsClassifier(n_neighbors=14) 0.9385964912280702\n",
      "KNeighborsClassifier(n_neighbors=15) 0.9385964912280702\n",
      "KNeighborsClassifier(n_neighbors=16) 0.9385964912280702\n",
      "KNeighborsClassifier(n_neighbors=17) 0.9385964912280702\n",
      "KNeighborsClassifier(n_neighbors=18) 0.9385964912280702\n",
      "KNeighborsClassifier(n_neighbors=19) 0.9473684210526315\n",
      "KNeighborsClassifier(n_neighbors=20) 0.9473684210526315\n",
      "KNeighborsClassifier(n_neighbors=21) 0.956140350877193\n",
      "KNeighborsClassifier(n_neighbors=22) 0.956140350877193\n",
      "KNeighborsClassifier(n_neighbors=23) 0.9473684210526315\n",
      "KNeighborsClassifier(n_neighbors=24) 0.9385964912280702\n",
      "KNeighborsClassifier(n_neighbors=25) 0.9385964912280702\n",
      "KNeighborsClassifier(n_neighbors=26) 0.9385964912280702\n",
      "KNeighborsClassifier(n_neighbors=27) 0.9473684210526315\n",
      "KNeighborsClassifier(n_neighbors=28) 0.9473684210526315\n",
      "KNeighborsClassifier(n_neighbors=29) 0.9473684210526315\n"
     ]
    }
   ],
   "source": [
    "#2. Accuracy를 더 높여보세요\n",
    "K_range = range(3,30)\n",
    "for K in K_range:\n",
    "    mymodel = KNeighborsClassifier(n_neighbors=K)\n",
    "    mymodel.fit(X_train, y_train)\n",
    "    prediction = mymodel.predict(X_test)\n",
    "    mymodel.score(X_test,y_test)\n",
    "    print(mymodel,mymodel.score(X_test,y_test))"
   ]
  },
  {
   "cell_type": "code",
   "execution_count": null,
   "metadata": {},
   "outputs": [],
   "source": []
  }
 ],
 "metadata": {
  "kernelspec": {
   "display_name": "Python 3 (ipykernel)",
   "language": "python",
   "name": "python3"
  },
  "language_info": {
   "codemirror_mode": {
    "name": "ipython",
    "version": 3
   },
   "file_extension": ".py",
   "mimetype": "text/x-python",
   "name": "python",
   "nbconvert_exporter": "python",
   "pygments_lexer": "ipython3",
   "version": "3.9.13"
  }
 },
 "nbformat": 4,
 "nbformat_minor": 2
}
